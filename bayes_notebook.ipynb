{
 "cells": [
  {
   "cell_type": "code",
   "execution_count": 1,
   "metadata": {},
   "outputs": [],
   "source": [
    "import pandas as pd\n",
    "import bayes \n",
    "import json\n"
   ]
  },
  {
   "cell_type": "code",
   "execution_count": 6,
   "metadata": {},
   "outputs": [
    {
     "name": "stdout",
     "output_type": "stream",
     "text": [
      "1.1.6    167278\n",
      "1.1.3      1380\n",
      "1.1.2       563\n",
      "1.1.1        85\n",
      "1.1.0         5\n",
      "1.0.1         2\n",
      "Name: app_version, dtype: int64\n",
      "firebase_exp_8_group1    26571\n",
      "firebase_exp_8_group0    26541\n",
      "firebase_exp_8_group2    24597\n",
      "Name: experiment_group, dtype: int64\n"
     ]
    }
   ],
   "source": [
    "df = pd.read_csv(r\"C:\\Users\\Muc\\Downloads\\CGa_0111_0811 (1).csv\")\n",
    "print(df.app_version.value_counts())\n",
    "print(df.experiment_group.value_counts())\n",
    "\n"
   ]
  },
  {
   "cell_type": "code",
   "execution_count": 7,
   "metadata": {},
   "outputs": [],
   "source": [
    "from datetime import timedelta\n",
    "\n",
    "def preprocess(data, metrics, ab_list, compare_by,  day_window = 3, **kwargs):\n",
    "    data.loc[:,'day0_date'] = pd.to_datetime(data.loc[:,'day0_date'])\n",
    "    data.loc[:,'act_date'] = pd.to_datetime(data.loc[:,'act_date'])\n",
    "    if (data.act_date.max() - data.day0_date.min()) > timedelta(3):\n",
    "        data = data[data.loc[:,'act_date'] < data.loc[:,'act_date'].max()] #drop max act_date \n",
    "        data = data[data.loc[:,'day0_date'] <= data.loc[:,'act_date'].max()-timedelta(days=day_window)] #find range day0_date\n",
    "        data = data[(data.loc[:,'day_diff'] <= day_window) & (data.loc[:,'day_diff']>= 0)]\n",
    "\n",
    "    for key, value in kwargs.items():\n",
    "        data = data[data.loc[:,key] == value]\n",
    "    \n",
    "    if compare_by == 'app_version':\n",
    "        data = data.query('app_version in @ab_list')\n",
    "    elif compare_by == 'experiment_group':\n",
    "        data = data.query('experiment_group in @ab_list')\n",
    "    \n",
    "    data['combined_ad'] = data['rv_imp_sum'] * 1.3 + data['is_imp_sum']\n",
    "    dim = data.groupby('resettable_device_id_or_app_instance_id')[compare_by].max().reset_index()\n",
    "    fact = data.groupby('resettable_device_id_or_app_instance_id')[metrics].sum()\n",
    "    data = dim.merge(fact, on ='resettable_device_id_or_app_instance_id')\n",
    "    return data\n"
   ]
  },
  {
   "cell_type": "code",
   "execution_count": 57,
   "metadata": {},
   "outputs": [
    {
     "name": "stderr",
     "output_type": "stream",
     "text": [
      "C:\\Users\\Muc\\AppData\\Local\\Temp/ipykernel_12040/688019483.py:19: SettingWithCopyWarning: \n",
      "A value is trying to be set on a copy of a slice from a DataFrame.\n",
      "Try using .loc[row_indexer,col_indexer] = value instead\n",
      "\n",
      "See the caveats in the documentation: https://pandas.pydata.org/pandas-docs/stable/user_guide/indexing.html#returning-a-view-versus-a-copy\n",
      "  data['combined_ad'] = data['rv_imp_sum'] * 1.3 + data['is_imp_sum']\n"
     ]
    }
   ],
   "source": [
    "metrics = [\n",
    "    'time_in_game_sum'\n",
    "    ,'rv_imp_sum'\n",
    "    ,'is_imp_sum'\n",
    "    ,'combined_ad'\n",
    "    ,'battle_play_sum'\n",
    "    ,'battle_end_sum'\n",
    "    # ,'ad_value_sum'\n",
    "]\n",
    "\n",
    "filter = {\n",
    "    'country':'Vietnam'\n",
    "    ,'event_segment': 'app_update--FALSE'\n",
    "    ,'app_version' : '1.1.6'\n",
    "    # ,'media_source' : \"Organic\"\n",
    "}\n",
    "# ab_list = ['1.1.2', '1.1.3']\n",
    "ab_list = ['firebase_exp_8_group0', 'firebase_exp_8_group2']\n",
    "\n",
    "\n",
    "data = preprocess(df,metrics,ab_list, compare_by = 'experiment_group', day_window = 3, **filter)\n",
    "descriptive_metric = []\n",
    "# number_user = data.groupby('app_version').agg({'resettable_device_id_or_app_instance_id':pd.Series.nunique})\n",
    "number_user = data.groupby('experiment_group').agg({'resettable_device_id_or_app_instance_id':pd.Series.nunique})\n",
    "\n",
    "\n",
    "\n",
    "for i in metrics:\n",
    "    descriptive_metric.append(data.groupby('experiment_group').agg({i: ['mean', 'std']}))\n",
    "descriptive_metric = pd.concat(descriptive_metric, axis=1)\n",
    "descriptive_metric\n",
    "for metric in metrics:\n",
    "    data_metrics = descriptive_metric[metric]\n",
    "    na, nb = number_user.resettable_device_id_or_app_instance_id\n",
    "    ma, mb = data_metrics['mean']\n",
    "    sa, sb = data_metrics['std']\n",
    "    globals()[metric] = bayes.gaussian_ab_test(m_a=ma, s_a=sa, n_a=na, m_b=mb, s_b=sb, n_b=nb)"
   ]
  },
  {
   "cell_type": "code",
   "execution_count": 30,
   "metadata": {},
   "outputs": [
    {
     "data": {
      "text/plain": [
       "783"
      ]
     },
     "execution_count": 30,
     "metadata": {},
     "output_type": "execute_result"
    }
   ],
   "source": [
    "na"
   ]
  },
  {
   "cell_type": "code",
   "execution_count": 45,
   "metadata": {},
   "outputs": [
    {
     "data": {
      "text/plain": [
       "{'chance_to_win': 0.0009254425218664757,\n",
       " 'expected': -0.23934395931628583,\n",
       " 'ci': [-0.35969356024106225, -0.09637389802536689],\n",
       " 'uplift': {'dist': 'lognormal',\n",
       "  'mean': -0.2735740066285395,\n",
       "  'stddev': 0.08787630784496527},\n",
       " 'risk': [0.0054833872260360295, 59.167357512542],\n",
       " 'mean': {'m_a': 247.18348561759728, 'm_b': 188.0216114922813}}"
      ]
     },
     "execution_count": 45,
     "metadata": {},
     "output_type": "execute_result"
    }
   ],
   "source": [
    "time_in_game_sum"
   ]
  },
  {
   "cell_type": "code",
   "execution_count": 58,
   "metadata": {},
   "outputs": [
    {
     "data": {
      "text/plain": [
       "{'chance_to_win': 1.2456315888632505e-06,\n",
       " 'expected': -0.2927427485064662,\n",
       " 'ci': [-0.38769621009223487, -0.18306430886939695],\n",
       " 'uplift': {'dist': 'lognormal',\n",
       "  'mean': -0.3463608157692,\n",
       "  'stddev': 0.07355538992539119},\n",
       " 'risk': [5.2776494730011336e-08, 0.6308086656749459],\n",
       " 'mean': {'m_a': 2.1548223350253806, 'm_b': 1.5240137221269296}}"
      ]
     },
     "execution_count": 58,
     "metadata": {},
     "output_type": "execute_result"
    }
   ],
   "source": [
    "rv_imp_sum"
   ]
  },
  {
   "cell_type": "code",
   "execution_count": 59,
   "metadata": {},
   "outputs": [
    {
     "data": {
      "text/plain": [
       "{'chance_to_win': 3.7685669424098512e-06,\n",
       " 'expected': -0.2855563353689373,\n",
       " 'ci': [-0.38333317700751735, -0.17227629102127862],\n",
       " 'uplift': {'dist': 'lognormal',\n",
       "  'mean': -0.3362511305834668,\n",
       "  'stddev': 0.07509080098104765},\n",
       " 'risk': [6.382264672311067e-07, 2.561310509276784],\n",
       " 'mean': {'m_a': 8.969543147208121, 'm_b': 6.408233276157804}}"
      ]
     },
     "execution_count": 59,
     "metadata": {},
     "output_type": "execute_result"
    }
   ],
   "source": [
    "is_imp_sum"
   ]
  },
  {
   "cell_type": "code",
   "execution_count": 61,
   "metadata": {},
   "outputs": [
    {
     "data": {
      "text/plain": [
       "{'chance_to_win': 2.3480304396554294e-05,\n",
       " 'expected': -0.2819358471839457,\n",
       " 'ci': [-0.38778899940282907, -0.1577803615804213],\n",
       " 'uplift': {'dist': 'lognormal',\n",
       "  'mean': -0.3311963645993452,\n",
       "  'stddev': 0.0813698212472897},\n",
       " 'risk': [7.563632239637741e-06, 3.6704211139423517],\n",
       " 'mean': {'m_a': 13.018612521150592, 'm_b': 9.34819897084048}}"
      ]
     },
     "execution_count": 61,
     "metadata": {},
     "output_type": "execute_result"
    }
   ],
   "source": [
    "battle_end_sum"
   ]
  },
  {
   "cell_type": "code",
   "execution_count": 62,
   "metadata": {},
   "outputs": [
    {
     "data": {
      "text/plain": [
       "{'chance_to_win': 4.6883234213261187e-07,\n",
       " 'expected': -0.2872665891973203,\n",
       " 'ci': [-0.3774840398721536, -0.1839744722848624],\n",
       " 'uplift': {'dist': 'lognormal',\n",
       "  'mean': -0.3386478263775414,\n",
       "  'stddev': 0.06905136364868851},\n",
       " 'risk': [1.0026150931707889e-07, 3.381361168079815],\n",
       " 'mean': {'m_a': 11.770812182741118, 'm_b': 8.389451114922814}}"
      ]
     },
     "execution_count": 62,
     "metadata": {},
     "output_type": "execute_result"
    }
   ],
   "source": [
    "combined_ad"
   ]
  },
  {
   "cell_type": "code",
   "execution_count": 60,
   "metadata": {},
   "outputs": [
    {
     "data": {
      "text/plain": [
       "{'chance_to_win': 0.00011039626184711519,\n",
       " 'expected': -0.23588872652231707,\n",
       " 'ci': [-0.3375378871656931, -0.11864236921014493],\n",
       " 'uplift': {'dist': 'lognormal',\n",
       "  'mean': -0.2690418545077553,\n",
       "  'stddev': 0.07283299976424865},\n",
       " 'risk': [3.4877990017889715e-05, 3.4559444187573316],\n",
       " 'mean': {'m_a': 14.650592216582064, 'm_b': 11.194682675814752}}"
      ]
     },
     "execution_count": 60,
     "metadata": {},
     "output_type": "execute_result"
    }
   ],
   "source": [
    "battle_play_sum"
   ]
  }
 ],
 "metadata": {
  "interpreter": {
   "hash": "b3ba2566441a7c06988d0923437866b63cedc61552a5af99d1f4fb67d367b25f"
  },
  "kernelspec": {
   "display_name": "Python 3.8.8 64-bit ('base': conda)",
   "name": "python3"
  },
  "language_info": {
   "codemirror_mode": {
    "name": "ipython",
    "version": 3
   },
   "file_extension": ".py",
   "mimetype": "text/x-python",
   "name": "python",
   "nbconvert_exporter": "python",
   "pygments_lexer": "ipython3",
   "version": "3.8.8"
  },
  "orig_nbformat": 4
 },
 "nbformat": 4,
 "nbformat_minor": 2
}
